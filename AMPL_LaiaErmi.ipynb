{
 "cells": [
  {
   "cell_type": "code",
   "execution_count": 3,
   "metadata": {
    "collapsed": true
   },
   "outputs": [],
   "source": [
    "import re\n",
    "import csv"
   ]
  },
  {
   "cell_type": "code",
   "execution_count": 4,
   "metadata": {
    "collapsed": false
   },
   "outputs": [
    {
     "name": "stdout",
     "output_type": "stream",
     "text": [
      "Length of the dataset:  2528\n"
     ]
    }
   ],
   "source": [
    "tags = {}\n",
    "with open('5k_dataset.csv', 'r') as csvfile:\n",
    "    reader = csv.reader(csvfile)\n",
    "    for row in reader:\n",
    "        songid, song_tags = row[0], row[1:]\n",
    "        if not ''.join(song_tags).strip(): # deleting (ignoring) songs with no tag\n",
    "            continue\n",
    "        tags[songid] = []\n",
    "        for i in range(len(song_tags)/2):\n",
    "            if song_tags[i*2+1]>='0':\n",
    "                tag = song_tags[i*2]\n",
    "                tag = tag.lower()\n",
    "                tag = re.sub(r'[^a-zA-Z0-9]','', tag) # deleting symbols that can lead to errors\n",
    "                if tag != '':\n",
    "                    tags[songid].append(tag)\n",
    "print \"Length of the dataset: \",len(tags)\n",
    "#to see the dataset\\n\",\n",
    "#for songid in tags.keys():\n",
    "#    print songid, tags[songid]"
   ]
  },
  {
   "cell_type": "code",
   "execution_count": 5,
   "metadata": {
    "collapsed": true
   },
   "outputs": [],
   "source": [
    "newdata = {}\n",
    "sixties=0\n",
    "seventies=0\n",
    "eighties=0\n",
    "nineties=0\n",
    "newdecade=0"
   ]
  },
  {
   "cell_type": "code",
   "execution_count": 7,
   "metadata": {
    "collapsed": false
   },
   "outputs": [],
   "source": [
    "for i in range(len(tags.keys())):\n",
    "    tagsINrow = tags[tags.keys()[i]]\n",
    "    for j in tagsINrow:\n",
    "        if (j =='60s') or (j == '1960s') or (j == '1960') or (j == '1961') or (j == '1962s') or (j == '1963') or (j == '1964') or (j == '1965s') or (j == '1966') or (j == '1967') or (j == '1968s') or (j == '1969'):\n",
    "            newdata[tags.keys()[i]] = '60s'\n",
    "            sixties +=1\n",
    "        elif (j =='70s') or (j == '1970s') or (j == '1970') or (j == '1971') or (j == '1972s') or (j == '1973') or (j == '1974') or (j == '1975s') or (j == '1976') or (j == '1977') or (j == '1978s') or (j == '1979'):\n",
    "            newdata[tags.keys()[i]] = '70s'\n",
    "            seventies +=1\n",
    "        elif (j =='80s') or (j == '1980s') or (j == '1980') or (j == '1981') or (j == '1982s') or (j == '1983') or (j == '1984') or (j == '1985s') or (j == '1986') or (j == '1987') or (j == '1988s') or (j == '1989'):\n",
    "            newdata[tags.keys()[i]] = '80s'\n",
    "            eighties +=1\n",
    "        elif (j =='90s') or (j == '1990s') or (j == '1990') or (j == '1991') or (j == '1992s') or (j == '1993') or (j == '1994') or (j == '1995s') or (j == '1996') or (j == '1997') or (j == '1998s') or (j == '1999'):\n",
    "            newdata[tags.keys()[i]] = '90s' \n",
    "            eighties +=1\n",
    "        elif (j =='00s') or (j == '2000s') or (j == '2000') or (j == '2001') or (j == '2002s') or (j == '2003') or (j == '2004') or (j == '2005s') or (j == '2006') or (j == '2007') or (j == '2008s') or (j == '2009'):\n",
    "            newdata[tags.keys()[i]] = '2000s'\n",
    "            newdecade +=1"
   ]
  },
  {
   "cell_type": "code",
   "execution_count": 8,
   "metadata": {
    "collapsed": false
   },
   "outputs": [
    {
     "name": "stdout",
     "output_type": "stream",
     "text": [
      "New dictionary length:  612\n",
      "60s tags:  78 \n",
      "70s tags:  117 \n",
      "80s tags:  454 \n",
      "90s tags 454 \n",
      "2000s tags:  349 \n",
      "\n"
     ]
    }
   ],
   "source": [
    "print \"New dictionary length: \", len(newdata)\n",
    "print \"60s tags: \", sixties,\"\\n\", \"70s tags: \",seventies,\"\\n\", \"80s tags: \", eighties,\"\\n\",\"90s tags\", eighties,\"\\n\", \"2000s tags: \", newdecade,\"\\n\""
   ]
  },
  {
   "cell_type": "code",
   "execution_count": 11,
   "metadata": {
    "collapsed": false
   },
   "outputs": [],
   "source": [
    "with open ('5k_newdataset.csv', 'wb') as newfile:\n",
    "    writer= csv.writer(newfile)\n",
    "    for key, value in newdata.items():\n",
    "        writer.writerow([key,value])\n",
    "    #    print key, value"
   ]
  },
  {
   "cell_type": "code",
   "execution_count": null,
   "metadata": {
    "collapsed": true
   },
   "outputs": [],
   "source": []
  }
 ],
 "metadata": {
  "kernelspec": {
   "display_name": "Python 2",
   "language": "python",
   "name": "python2"
  },
  "language_info": {
   "codemirror_mode": {
    "name": "ipython",
    "version": 2
   },
   "file_extension": ".py",
   "mimetype": "text/x-python",
   "name": "python",
   "nbconvert_exporter": "python",
   "pygments_lexer": "ipython2",
   "version": "2.7.11"
  }
 },
 "nbformat": 4,
 "nbformat_minor": 0
}
